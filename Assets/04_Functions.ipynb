{
 "cells": [
  {
   "cell_type": "markdown",
   "id": "18fe8a1e",
   "metadata": {},
   "source": [
    "# Funciones Integradas"
   ]
  },
  {
   "cell_type": "code",
   "execution_count": null,
   "id": "38eb8b7e",
   "metadata": {},
   "outputs": [],
   "source": [
    "# Imprime texto o resultados en consola\n",
    "print(\"Hola, mundo\")\n",
    "\n",
    "# Imprimir varias variables\n",
    "nombre = \"Jesús\"\n",
    "edad = 25\n",
    "print(\"Nombre:\", nombre, \"- Edad:\", edad)\n",
    "\n",
    "# Imprimir con formato\n",
    "print(f\"{nombre} tiene {edad} años\")  # Usando f-strings (recomendado)"
   ]
  },
  {
   "cell_type": "markdown",
   "id": "9a0c8010",
   "metadata": {},
   "source": [
    "# type(): Muestra el tipo de dato"
   ]
  },
  {
   "cell_type": "code",
   "execution_count": null,
   "id": "37dad739",
   "metadata": {},
   "outputs": [],
   "source": [
    "# Muestra el tipo de una variable o literal\n",
    "print(type(10))          # int\n",
    "print(type(3.14))        # float\n",
    "print(type(\"texto\"))     # str\n",
    "print(type(True))        # bool"
   ]
  },
  {
   "cell_type": "markdown",
   "id": "08a45e13",
   "metadata": {},
   "source": [
    "# len(): Longitud de secuencias"
   ]
  },
  {
   "cell_type": "code",
   "execution_count": null,
   "id": "1e7531a1",
   "metadata": {},
   "outputs": [],
   "source": [
    "# Devuelve la cantidad de elementos\n",
    "texto = \"Python\"\n",
    "lista = [1, 2, 3, 4]\n",
    "\n",
    "print(len(texto))  # 6\n",
    "print(len(lista))  # 4"
   ]
  },
  {
   "cell_type": "markdown",
   "id": "25e32c75",
   "metadata": {},
   "source": [
    "# str(), int(), float(), bool(): Conversión de tipos"
   ]
  },
  {
   "cell_type": "code",
   "execution_count": null,
   "id": "8b5fac84",
   "metadata": {},
   "outputs": [],
   "source": [
    "# str(): convierte a cadena\n",
    "print(str(123))  # \"123\"\n",
    "\n",
    "# int(): convierte a entero (si es posible)\n",
    "print(int(\"10\"))  # 10\n",
    "\n",
    "# float(): convierte a decimal\n",
    "print(float(\"3.14\"))  # 3.14\n",
    "\n",
    "# bool(): convierte a booleano\n",
    "print(bool(\"\"))    # False\n",
    "print(bool(\"Hola\"))  # True"
   ]
  },
  {
   "cell_type": "markdown",
   "id": "90dfa067",
   "metadata": {},
   "source": [
    "# sum(), max(), min(): Operaciones numéricas"
   ]
  },
  {
   "cell_type": "code",
   "execution_count": null,
   "id": "cbc39c87",
   "metadata": {},
   "outputs": [],
   "source": [
    "numeros = [1, 2, 3, 4, 5]\n",
    "\n",
    "print(sum(numeros))  # 15\n",
    "print(max(numeros))  # 5\n",
    "print(min(numeros))  # 1"
   ]
  },
  {
   "cell_type": "markdown",
   "id": "8d2169d4",
   "metadata": {},
   "source": [
    "#  input(): Entrada de datos por teclado"
   ]
  },
  {
   "cell_type": "code",
   "execution_count": null,
   "id": "d307b24a",
   "metadata": {},
   "outputs": [],
   "source": [
    "# Captura texto del usuario (devuelve str)\n",
    "nombre = input(\"¿Cuál es tu nombre? \")\n",
    "print(\"Hola\", nombre)"
   ]
  },
  {
   "cell_type": "markdown",
   "id": "34a6de38",
   "metadata": {},
   "source": [
    "# isinstance(): Verificar tipo de dato"
   ]
  },
  {
   "cell_type": "code",
   "execution_count": null,
   "id": "ad0cb9ed",
   "metadata": {},
   "outputs": [],
   "source": [
    "x = 10\n",
    "print(isinstance(x, int))   # True\n",
    "print(isinstance(x, float)) # False"
   ]
  },
  {
   "cell_type": "code",
   "execution_count": null,
   "id": "f8b6df60",
   "metadata": {},
   "outputs": [],
   "source": [
    "# Definición de una función simple\n",
    "def saludar(nombre):\n",
    "    return f\"Hola, {nombre}!\"\n",
    "\n",
    "# Llamar la función\n",
    "mensaje = saludar(\"Jesús\")\n",
    "print(mensaje)"
   ]
  },
  {
   "cell_type": "markdown",
   "id": "4f714432",
   "metadata": {},
   "source": [
    "# help(): Acceder a la documentación"
   ]
  },
  {
   "cell_type": "code",
   "execution_count": null,
   "id": "0a58369f",
   "metadata": {},
   "outputs": [],
   "source": [
    "# Muestra la documentación de una función u objeto\n",
    "help(print)    # Descripción de la función print\n",
    "help(str)      # Información sobre la clase str"
   ]
  },
  {
   "cell_type": "markdown",
   "id": "fd749bff",
   "metadata": {},
   "source": [
    "# Definir funciones"
   ]
  },
  {
   "cell_type": "code",
   "execution_count": null,
   "id": "c40e5dd0",
   "metadata": {},
   "outputs": [],
   "source": [
    "# Definir una función sin argumentos\n",
    "def saludar_mundo():\n",
    "    return \"Hola, mundo!\"\n",
    "\n",
    "# Llamar la función\n",
    "mensaje = saludar_mundo()"
   ]
  },
  {
   "cell_type": "code",
   "execution_count": null,
   "id": "5834034a",
   "metadata": {},
   "outputs": [],
   "source": [
    "# Definición de una función con parámetros\n",
    "def sumar(a, b):\n",
    "    return a + b\n",
    "\n",
    "# Llamar la función\n",
    "resultado = sumar(5, 10)\n",
    "print(\"La suma es:\", resultado)"
   ]
  }
 ],
 "metadata": {
  "language_info": {
   "name": "python"
  }
 },
 "nbformat": 4,
 "nbformat_minor": 5
}
