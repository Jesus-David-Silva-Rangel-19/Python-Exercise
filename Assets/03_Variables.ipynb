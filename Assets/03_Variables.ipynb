{
 "cells": [
  {
   "cell_type": "code",
   "execution_count": null,
   "id": "077d7a0c",
   "metadata": {},
   "outputs": [],
   "source": [
    "# Texto (str)\n",
    "nombre = \"Juan\"\n",
    "\n",
    "# Número Entero (int)\n",
    "edad = 30\n",
    "\n",
    "# Número Decimal (float)\n",
    "altura = 1.75\n",
    "\n",
    "# Booleano (bool)\n",
    "es_estudiante = True\n",
    "\n",
    "# Listas (list)\n",
    "ciudades = [\"Madrid\", \"Barcelona\", \"Valencia\"]\n",
    "\n",
    "# Diccionarios (dict)\n",
    "paises = {\n",
    "    \"Francia\": \"París\",\n",
    "    'Reino Unido': 'Londres',\n",
    "    'EE.UU.': \"Nueva York\",\n",
    "    'Colombia': 'Bogotá D.C.',\n",
    "    'EE.UU.': 'Washington D.C.',\n",
    "    'Alemania': 'Berlín'\n",
    "}\n",
    "\n",
    "# Tuplas (tuple)\n",
    "coordenadas = (40.4168, -3.7038)  # (latitud, longitud)\n",
    "\n",
    "# Conjuntos (set)\n",
    "conjunto = {1, 2, 3, 4, 5}"
   ]
  }
 ],
 "metadata": {
  "language_info": {
   "name": "python"
  }
 },
 "nbformat": 4,
 "nbformat_minor": 5
}
