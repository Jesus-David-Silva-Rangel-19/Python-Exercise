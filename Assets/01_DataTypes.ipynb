{
 "cells": [
  {
   "cell_type": "markdown",
   "id": "d61bd2ac",
   "metadata": {},
   "source": [
    "# Tipos de datos"
   ]
  },
  {
   "cell_type": "markdown",
   "id": "9c3f882f",
   "metadata": {},
   "source": [
    "| Tipo de dato | Nombre        | Ejemplo                          |\n",
    "|--------------|---------------|----------------------------------|\n",
    "| `str`        | Texto         | `\"Hola, mundo\"`                  |\n",
    "| `int`        | Entero        | `42`                             |\n",
    "| `float`      | Decimal       | `3.14`                           |\n",
    "| `bool`       | Booleano      | `True`, `False`                  |\n",
    "| `list`       | Lista         | `[1, 2, 3]`                      |\n",
    "| `dict`       | Diccionario   | `{\"clave\": \"valor\"}`            |\n",
    "| `tuple`      | Tupla         | `(1, 2, 3)`                      |\n",
    "| `set`        | Conjunto      | `{1, 2, 3}`                      |\n",
    ">"
   ]
  },
  {
   "cell_type": "code",
   "execution_count": null,
   "id": "424e118a",
   "metadata": {},
   "outputs": [],
   "source": [
    "# Números enteros (int)\n",
    "a = 10\n",
    "print(\"Entero:\", a, type(a))\n",
    "\n",
    "# Números decimales (float)\n",
    "b = 3.14\n",
    "print(\"Decimal:\", b, type(b))\n",
    "\n",
    "# Cadenas de texto (str)\n",
    "c = \"Hola, mundo\"\n",
    "print(\"Cadena:\", c, type(c))\n",
    "\n",
    "# Booleanos (bool)\n",
    "d = True\n",
    "print(\"Booleano:\", d, type(d))\n",
    "\n",
    "# Listas (list)\n",
    "e = [1, 2, 3, 4, 5]\n",
    "print(\"Lista:\", e, type(e))\n",
    "\n",
    "# Diccionarios (dict)\n",
    "f = {\"nombre\": \"Juan\", \"edad\": 30}\n",
    "print(\"Diccionario:\", f, type(f))\n",
    "\n",
    "# Tuplas (tuple)\n",
    "g = (1, 2, 3)\n",
    "print(\"Tupla:\", g, type(g))\n",
    "\n",
    "# Conjuntos (set)\n",
    "h = {1, 2, 3, 4, 5}\n",
    "print(\"Conjunto:\", h, type(h))"
   ]
  },
  {
   "cell_type": "markdown",
   "id": "6bd83fb7",
   "metadata": {},
   "source": [
    "# **¿Que representa cada tipo de dato?**\n",
    "\n",
    "- **int:** números enteros.\n",
    "- **str:** "
   ]
  }
 ],
 "metadata": {
  "kernelspec": {
   "display_name": "Python 3",
   "language": "python",
   "name": "python3"
  },
  "language_info": {
   "codemirror_mode": {
    "name": "ipython",
    "version": 3
   },
   "file_extension": ".py",
   "mimetype": "text/x-python",
   "name": "python",
   "nbconvert_exporter": "python",
   "pygments_lexer": "ipython3",
   "version": "3.12.1"
  }
 },
 "nbformat": 4,
 "nbformat_minor": 5
}
