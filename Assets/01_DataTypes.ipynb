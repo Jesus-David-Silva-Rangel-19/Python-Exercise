{
 "cells": [
  {
   "cell_type": "markdown",
   "id": "d61bd2ac",
   "metadata": {},
   "source": [
    "# Tipos de datos"
   ]
  },
  {
   "cell_type": "markdown",
   "id": "9c3f882f",
   "metadata": {},
   "source": [
    "| Tipo de dato | Nombre        | Ejemplo                          |\n",
    "|--------------|---------------|----------------------------------|\n",
    "| `str`        | Texto         | `\"Hola, mundo\"`                  |\n",
    "| `int`        | Entero        | `42`                             |\n",
    "| `float`      | Decimal       | `3.14`                           |\n",
    "| `bool`       | Booleano      | `True`, `False`                  |\n",
    "| `list`       | Lista         | `[1, 2, 3]`                      |\n",
    "| `dict`       | Diccionario   | `{\"clave\": \"valor\"}`            |\n",
    "| `tuple`      | Tupla         | `(1, 2, 3)`                      |\n",
    "| `set`        | Conjunto      | `{1, 2, 3}`                      |\n",
    ">"
   ]
  },
  {
   "cell_type": "code",
   "execution_count": null,
   "id": "424e118a",
   "metadata": {},
   "outputs": [],
   "source": [
    "# Números enteros (int)\n",
    "a = 10\n",
    "print(\"Entero:\", a, type(a))\n",
    "\n",
    "# Números decimales (float)\n",
    "b = 3.14\n",
    "print(\"Decimal:\", b, type(b))\n",
    "\n",
    "# Cadenas de texto (str)\n",
    "c = \"Hola, mundo\"\n",
    "print(\"Cadena:\", c, type(c))\n",
    "\n",
    "# Booleanos (bool)\n",
    "d = True\n",
    "print(\"Booleano:\", d, type(d))\n",
    "\n",
    "# Listas (list)\n",
    "e = [1, 2, 3, 4, 5]\n",
    "print(\"Lista:\", e, type(e))\n",
    "\n",
    "# Diccionarios (dict)\n",
    "f = {\"nombre\": \"Juan\", \"edad\": 30}\n",
    "print(\"Diccionario:\", f, type(f))\n",
    "\n",
    "# Tuplas (tuple)\n",
    "g = (1, 2, 3)\n",
    "print(\"Tupla:\", g, type(g))\n",
    "\n",
    "# Conjuntos (set)\n",
    "h = {1, 2, 3, 4, 5}\n",
    "print(\"Conjunto:\", h, type(h))"
   ]
  },
  {
   "cell_type": "markdown",
   "id": "6bd83fb7",
   "metadata": {},
   "source": [
    "# **¿Que representa cada tipo de dato?**\n",
    "\n",
    "- **int**: son números enteros, como 1, 2, 3.\n",
    "- **float**: son números decimales, como 3.14, 2.5.\n",
    "- **str**: son cadenas de texto, como \"Hola, mundo\".\n",
    "- **bool**: son valores booleanos, como True o False.\n",
    "- **list**: son listas, que pueden contener múltiples elementos, como [1, 2, 3].\n",
    "- **dict**: son diccionarios, que almacenan pares clave-valor, como {\"nombre\": \"Juan\", \"edad\": 30}.\n",
    "- **tuple**: son tuplas, que son similares a las listas pero inmutables, como (1, 2, 3).\n",
    "- **set**: son conjuntos, que almacenan elementos únicos, como {1, 2, 3}."
   ]
  },
  {
   "cell_type": "markdown",
   "id": "00422e20",
   "metadata": {},
   "source": [
    "## **¿Que son los datos booleanos?**\n",
    "\n",
    "Los datos booleanos son un tipo de dato que puede tener solo dos valores: True (verdadero) o False (falso).\n",
    "Los booleanos son útiles para representar condiciones lógicas y tomar decisiones en el código. Por ejemplo, se pueden usar en estructuras de control como if, while y for para determinar el flujo de ejecución del programa.\n",
    "\n",
    "### **Ejemplo de uso de booleanos**\n",
    "\n",
    "```python\n",
    "es_mayor_de_edad = True\n",
    "if es_mayor_de_edad:\n",
    "    print(\"Eres mayor de edad.\")\n",
    "else:\n",
    "    print(\"Eres menor de edad.\")\n",
    "```"
   ]
  },
  {
   "cell_type": "markdown",
   "id": "6633cb9a",
   "metadata": {},
   "source": [
    "# **¿Que son las listas?**\n",
    "\n",
    "Las listas son estructuras de datos que permiten almacenar múltiples elementos en una sola variable.\n",
    "Pueden contener elementos de diferentes tipos, como números, cadenas de texto, booleanos, etc. Las listas son mutables, lo que significa que puedes modificar su contenido después de haberlas creado.\n",
    "\n",
    "### **Ejemplo de lista**\n",
    "\n",
    "```python\n",
    "mi_lista = [1, 2, 3, \"Hola\", True]\n",
    "print(\"Lista:\", mi_lista)\n",
    "```"
   ]
  },
  {
   "cell_type": "markdown",
   "id": "40abb2b6",
   "metadata": {},
   "source": [
    "# **¿Qué son los diccionarios?**\n",
    "\n",
    "Los diccionarios son estructuras de datos que almacenan pares clave-valor.\n",
    "Se utilizan para almacenar información de manera organizada y accesible.\n",
    "\n",
    "### **Por ejemplo**\n",
    "\n",
    "un diccionario que almacena información de una persona:\n",
    "\n",
    "```python\n",
    "persona = {\n",
    "    \"nombre\": \"Juan\",\n",
    "    \"edad\": 30,\n",
    "    \"ciudad\": \"Madrid\"\n",
    "}\n",
    "```"
   ]
  },
  {
   "cell_type": "markdown",
   "id": "6543c621",
   "metadata": {},
   "source": [
    "# **¿Qué son las tuplas?**\n",
    "\n",
    "Las tuplas son estructuras de datos inmutables que pueden contener múltiples elementos.\n",
    "Se definen con paréntesis y son útiles para almacenar datos que no deben cambiar.\n",
    "\n",
    "### **Ejemplo de tupla**\n",
    "\n",
    "```python\n",
    "tupla = (1, 2, 3)\n",
    "print(\"Tupla:\", tupla, type(tupla))\n",
    "```"
   ]
  },
  {
   "cell_type": "markdown",
   "id": "ba824bdb",
   "metadata": {},
   "source": [
    "# **¿Qué son los conjuntos (set)?**\n",
    "\n",
    "Los conjuntos son una colección desordenada de elementos únicos. No permiten duplicados y no tienen un orden específico.\n",
    "Se utilizan para realizar operaciones matemáticas como la unión, intersección y diferencia entre conjuntos.\n",
    "\n",
    "### **Ejemplo de conjunto**\n",
    "\n",
    "```python\n",
    "conjunto = {1, 2, 3, 4, 5}\n",
    "print(\"Conjunto:\", conjunto, type(conjunto))\n",
    "```"
   ]
  }
 ],
 "metadata": {
  "kernelspec": {
   "display_name": "Python 3",
   "language": "python",
   "name": "python3"
  },
  "language_info": {
   "codemirror_mode": {
    "name": "ipython",
    "version": 3
   },
   "file_extension": ".py",
   "mimetype": "text/x-python",
   "name": "python",
   "nbconvert_exporter": "python",
   "pygments_lexer": "ipython3",
   "version": "3.12.1"
  }
 },
 "nbformat": 4,
 "nbformat_minor": 5
}
