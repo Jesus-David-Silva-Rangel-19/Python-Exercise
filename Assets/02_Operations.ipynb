{
 "cells": [
  {
   "cell_type": "markdown",
   "id": "004bfd9f",
   "metadata": {},
   "source": [
    "# Operaciones básicas"
   ]
  },
  {
   "cell_type": "code",
   "execution_count": null,
   "metadata": {},
   "outputs": [],
   "source": [
    "a = 10\n",
    "b = 3\n",
    "\n",
    "suma = a + b # se usa (+)\n",
    "resta = a -b # se usa (-)\n",
    "multiplicación = a * b # se usa (*)\n",
    "división = a / b # se usa (/)\n",
    "potencia = a ** 2 # se usa (**)\n",
    "división_entera = a // 3 # se usa (//)\n",
    "módulo = a % 3 # se usa (%)\n",
    "\n",
    "print('Suma:', suma)\n",
    "print('Resta:', resta)\n",
    "print('Multiplicación:', multiplicación)\n",
    "print('Divisin:', división)\n",
    "print('potencia', potencia)\n",
    "print('División entera:', división_entera)\n",
    "print('Módulo:', módulo)"
   ]
  },
  {
   "cell_type": "markdown",
   "id": "3471281f",
   "metadata": {},
   "source": [
    "# Operaciones de comparación"
   ]
  },
  {
   "cell_type": "code",
   "execution_count": null,
   "id": "b9c5c068",
   "metadata": {},
   "outputs": [],
   "source": [
    "mayor_que = a > b # se usa (>)\n",
    "menor_que = a < b # se usa (<)\n",
    "igual_que = a == b # se usa (==)\n",
    "diferente_que = a != b # se usa (!=)\n",
    "mayor_igual_que = a >= b # se usa (>=)\n",
    "menor_igual_que = a <= b # se usa (<=)\n",
    "\n",
    "print('----------------------------------')\n",
    "print('Operaciones de comparación:')\n",
    "print('----------------------------------')\n",
    "print('Mayor que:', mayor_que)\n",
    "print('Menor que:', menor_que)\n",
    "print('Igual que:', igual_que)\n",
    "print('Diferente que:', diferente_que)\n",
    "print('Mayor o igual que:', mayor_igual_que)\n",
    "print('Menor o igual que:', menor_igual_que)\n",
    "print('----------------------------------')"
   ]
  },
  {
   "cell_type": "markdown",
   "id": "cd83df40",
   "metadata": {},
   "source": [
    "# Operaciones lógicas"
   ]
  },
  {
   "cell_type": "code",
   "execution_count": null,
   "id": "5d4ab705",
   "metadata": {},
   "outputs": [],
   "source": [
    "a = True\n",
    "b = False\n",
    "\n",
    "print('----------------------------------')\n",
    "print('Operaciones lógicas:')\n",
    "print('----------------------------------')\n",
    "print('a and b:', a and b) # se usa (and)\n",
    "print('a or b:', a or b) # se usa (or)\n",
    "print('not a:', not a) # se usa (not)\n",
    "print('not b:', not b) # se usa (not)\n",
    "print('----------------------------------')"
   ]
  },
  {
   "cell_type": "markdown",
   "id": "3af6ff55",
   "metadata": {},
   "source": [
    "# Operaciones de asignación"
   ]
  },
  {
   "cell_type": "code",
   "execution_count": null,
   "id": "728624c6",
   "metadata": {},
   "outputs": [],
   "source": [
    "a = 10\n",
    "b = 3\n",
    "\n",
    "a += b # se usa (+=)\n",
    "a -= b # se usa (-=)\n",
    "a *= b # se usa (*=)\n",
    "a /= b # se usa (/=)\n",
    "a **= b # se usa (**=)\n",
    "a //= b # se usa (//=)\n",
    "a %= b # se usa (%=)\n",
    "\n",
    "print('----------------------------------')\n",
    "print('Operaciones de asignación:')\n",
    "print('----------------------------------')\n",
    "print('a += b:', a)\n",
    "print('a -= b:', a)\n",
    "print('a *= b:', a)\n",
    "print('a /= b:', a)\n",
    "print('a **= b:', a)\n",
    "print('a //= b:', a)\n",
    "print('a %= b:', a)\n",
    "print('----------------------------------')"
   ]
  },
  {
   "cell_type": "markdown",
   "id": "784acad1",
   "metadata": {},
   "source": [
    "# Operaciones de identidad"
   ]
  },
  {
   "cell_type": "code",
   "execution_count": null,
   "id": "cc9375ad",
   "metadata": {},
   "outputs": [],
   "source": [
    "a = [1, 2, 3]\n",
    "b = a\n",
    "c = a.copy()\n",
    "\n",
    "print('----------------------------------')\n",
    "print('Operaciones de identidad:')\n",
    "print('----------------------------------')\n",
    "print('a is b:', a is b) # se usa (is)\n",
    "print('a is not b:', a is not b) # se usa (is not)\n",
    "print('a is c:', a is c) # se usa (is)\n",
    "print('a is not c:', a is not c) # se usa (is not)\n",
    "print('----------------------------------')"
   ]
  },
  {
   "cell_type": "markdown",
   "id": "2e3349a0",
   "metadata": {},
   "source": [
    "# Operaciones de pertenencia"
   ]
  },
  {
   "cell_type": "code",
   "execution_count": null,
   "id": "e2abf971",
   "metadata": {},
   "outputs": [],
   "source": [
    "a = [1, 2, 3]\n",
    "b = 2\n",
    "\n",
    "print('----------------------------------')\n",
    "print('Operaciones de pertenencia:')\n",
    "print('----------------------------------')\n",
    "print('b in a:', b in a) # se usa (in)\n",
    "print('b not in a:', b not in a) # se usa (not in)\n",
    "print('----------------------------------')"
   ]
  },
  {
   "cell_type": "markdown",
   "id": "991374a4",
   "metadata": {},
   "source": [
    "# Operaciones de bits"
   ]
  },
  {
   "cell_type": "code",
   "execution_count": null,
   "id": "9260fc13",
   "metadata": {},
   "outputs": [],
   "source": [
    "a = 10 # 1010\n",
    "b = 3 # 0011\n",
    "print('----------------------------------')\n",
    "print('Operaciones de bits:')\n",
    "print('----------------------------------')\n",
    "print('a & b:', a & b) # se usa (&)\n",
    "print('a | b:', a | b) # se usa (|)\n",
    "print('a ^ b:', a ^ b) # se usa (^)\n",
    "print('~a:', ~a) # se usa (~)\n",
    "print('a << 1:', a << 1) # se usa (<<)\n",
    "print('a >> 1:', a >> 1) # se usa (>>)\n",
    "print('----------------------------------')"
   ]
  },
  {
   "cell_type": "markdown",
   "id": "66a63b4a",
   "metadata": {},
   "source": [
    "Hola como estas"
   ]
  },
  {
   "cell_type": "markdown",
   "id": "bebf6837",
   "metadata": {},
   "source": []
  }
 ],
 "metadata": {
  "language_info": {
   "name": "python"
  }
 },
 "nbformat": 4,
 "nbformat_minor": 5
}
