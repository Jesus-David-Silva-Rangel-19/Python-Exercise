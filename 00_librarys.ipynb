{
 "cells": [
  {
   "cell_type": "markdown",
   "id": "3516e48d",
   "metadata": {},
   "source": [
    "# **Tabla de librerías para análisis de datos**\n",
    "\n",
    "| #  | Librería     | Importación                             | Descripción |\n",
    "|----|--------------|------------------------------------------|-------------|\n",
    "| 1  | NumPy        | `import numpy as np`                     | Soporte para arreglos y matrices multidimensionales, junto con funciones matemáticas de alto nivel. |\n",
    "| 2  | Pandas       | `import pandas as pd`                    | Manipulación y análisis de datos, incluye estructuras como DataFrames. |\n",
    "| 3  | Matplotlib   | `import matplotlib.pyplot as plt`        | Creación de gráficos y visualizaciones 2D. |\n",
    "| 4  | Seaborn      | `import seaborn as sns`                  | Visualización estadística de alto nivel basada en Matplotlib. |\n",
    "| 5  | SciPy        | `import scipy`                           | Algoritmos matemáticos, científicos y de ingeniería. |\n",
    "| 6  | Scikit-learn | `import sklearn`                         | Herramientas para aprendizaje automático: clasificación, regresión y clustering. |\n",
    "| 7  | Statsmodels  | `import statsmodels.api as sm`          | Estimación de modelos estadísticos y pruebas estadísticas. |\n",
    "| 8  | TensorFlow   | `import tensorflow as tf`                | Computación numérica y aprendizaje automático. |\n",
    "| 9  | Keras        | `import keras`                           | API de alto nivel para redes neuronales sobre TensorFlow. |\n",
    "|10  | PyTorch      | `import torch`                           | Aprendizaje profundo con enfoque dinámico y flexible. |\n",
    "|11  | NLTK         | `import nltk`                            | Procesamiento del lenguaje natural (tokenización, análisis sintáctico, etc.). |\n",
    "|12  | SpaCy        | `import spacy`                           | Análisis sintáctico y semántico de lenguaje natural. |\n",
    "|13  | OpenCV       | `import cv2`                             | Procesamiento de imágenes y visión por computadora. |\n",
    "|14  | Plotly       | `import plotly.express as px`            | Visualizaciones interactivas en línea. |\n",
    "|15  | Bokeh        | `from bokeh.plotting import figure, show`| Visualizaciones interactivas y escalables en navegador. |\n",
    "|16  | Folium       | `import folium`                          | Creación de mapas interactivos con Leaflet.js. |\n",
    "|17  | NetworkX     | `import networkx as nx`                  | Análisis y visualización de redes complejas. |\n",
    "|18  | Dask         | `import dask.dataframe as dd`            | Procesamiento paralelo de grandes conjuntos de datos. |\n",
    "|19  | Vaex         | `import vaex`                            | Manipulación eficiente de grandes volúmenes de datos. |\n",
    "|20  | PySpark      | `from pyspark.sql import SparkSession`   | Análisis distribuido de grandes volúmenes de datos con Apache Spark. |\n"
   ]
  },
  {
   "cell_type": "code",
   "execution_count": null,
   "id": "decc2b70",
   "metadata": {},
   "outputs": [],
   "source": [
    "import pandas as pd\n",
    "import numpy as np\n",
    "import os\n",
    "import matplotlib.pyplot as plt\n",
    "import seaborn as sns"
   ]
  },
  {
   "cell_type": "markdown",
   "id": "cb14c95c",
   "metadata": {},
   "source": [
    "````python\n",
    "\n",
    "# Importar pandas\n",
    "import pandas as pd\n",
    "\n",
    "# Importar numpy\n",
    "import numpy as np\n",
    "\n",
    "# Importar matplotlib\n",
    "import matplotlib.pyplot as plt\n",
    "\n",
    "# Importar seaborn\n",
    "import seaborn as sns\n",
    "\n",
    "# Importar os\n",
    "import os\n",
    "\n",
    "````"
   ]
  },
  {
   "cell_type": "markdown",
   "id": "8e421b0c",
   "metadata": {},
   "source": [
    "---"
   ]
  },
  {
   "cell_type": "code",
   "execution_count": 1,
   "id": "d6288e27",
   "metadata": {},
   "outputs": [
    {
     "name": "stdout",
     "output_type": "stream",
     "text": [
      "Suma: 15\n"
     ]
    }
   ],
   "source": [
    "a = 12\n",
    "b = 3\n",
    "\n",
    "suma = a + b\n",
    "print(f\"Suma: {suma}\")"
   ]
  },
  {
   "cell_type": "code",
   "execution_count": null,
   "id": "d2bd47b2",
   "metadata": {},
   "outputs": [],
   "source": []
  }
 ],
 "metadata": {
  "kernelspec": {
   "display_name": "Python 3",
   "language": "python",
   "name": "python3"
  },
  "language_info": {
   "codemirror_mode": {
    "name": "ipython",
    "version": 3
   },
   "file_extension": ".py",
   "mimetype": "text/x-python",
   "name": "python",
   "nbconvert_exporter": "python",
   "pygments_lexer": "ipython3",
   "version": "3.12.1"
  }
 },
 "nbformat": 4,
 "nbformat_minor": 5
}
